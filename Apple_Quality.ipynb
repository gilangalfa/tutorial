{
  "nbformat": 4,
  "nbformat_minor": 0,
  "metadata": {
    "colab": {
      "provenance": [],
      "authorship_tag": "ABX9TyOp+zVvcqPf1GTEPm+vzGiD",
      "include_colab_link": true
    },
    "kernelspec": {
      "name": "python3",
      "display_name": "Python 3"
    },
    "language_info": {
      "name": "python"
    }
  },
  "cells": [
    {
      "cell_type": "markdown",
      "metadata": {
        "id": "view-in-github",
        "colab_type": "text"
      },
      "source": [
        "<a href=\"https://colab.research.google.com/github/gilangalfa/tutorial/blob/main/Apple_Quality.ipynb\" target=\"_parent\"><img src=\"https://colab.research.google.com/assets/colab-badge.svg\" alt=\"Open In Colab\"/></a>"
      ]
    },
    {
      "cell_type": "markdown",
      "source": [
        "#Prediksi Kualitas Apel untuk Industri Apel"
      ],
      "metadata": {
        "id": "d6CC95cahY12"
      }
    },
    {
      "cell_type": "markdown",
      "source": [
        "##Business Understanding"
      ],
      "metadata": {
        "id": "_JmZMMj49Ip3"
      }
    },
    {
      "cell_type": "markdown",
      "source": [
        "###Business Objective\n",
        "Tujuan dataset ini untuk memungkinkan berbagai pihak dalam industri apel untuk meningkatkan kualitas produk, efisiensi operasi, dan profitabilitas. Hal ini dapat dicapai dengan memahami faktor-faktor yang mempengaruhi kualitas apel, mengembangkan varietas baru yang unggul, menerapkan praktik budidaya yang optimal, dan meningkatkan efisiensi rantai pasokan.\n",
        "###Assess Situation\n",
        "Untuk mencari kualitas apel terbaik dari sekian banyaknya apel.\n",
        "###Data Mining Goals\n",
        "Tujuan yang ingin dicapai dari dataset ini adalah menemukan berapa banyak kualitas apel yang tinggi dari sekian banyak apel yang diuji coba dan untuk meningkatkan kualitas dan keberlanjutan industri apel.\n",
        "###Project Plan\n",
        "Rencana proyek untuk menganalisis dataset ini dimulai dengan memahami faktor-faktor yang mempengaruhi kualitas apel, hubungan antar atribut, dan variabilitasnya. Menyilangkan varietas unggul dengan karakteristik yang diinginkan untuk meningkatkan kualitas dan daya saing. Setelah itu mengembangkan praktik budidaya optimal berdasarkan data untuk meningkatkan hasil panen dan kualitas apel."
      ],
      "metadata": {
        "id": "gOafaTF5hR8t"
      }
    }
  ]
}